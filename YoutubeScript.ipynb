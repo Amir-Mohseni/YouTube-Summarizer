{
  "nbformat": 4,
  "nbformat_minor": 0,
  "metadata": {
    "colab": {
      "provenance": []
    },
    "kernelspec": {
      "name": "python3",
      "display_name": "Python 3"
    },
    "language_info": {
      "name": "python"
    }
  },
  "cells": [
    {
      "cell_type": "markdown",
      "source": [
        "# Summarize Youtube videos into text"
      ],
      "metadata": {
        "id": "Jhu3KrV9Ru1t"
      }
    },
    {
      "cell_type": "markdown",
      "source": [
        "### Installing necessary libraries\n"
      ],
      "metadata": {
        "id": "PD3P82YJRIzH"
      }
    },
    {
      "cell_type": "code",
      "source": [
        "%pip install pytube\n",
        "%pip install playsound\n",
        "%pip install openai"
      ],
      "metadata": {
        "id": "FX8cTWYpAWCQ"
      },
      "execution_count": null,
      "outputs": []
    },
    {
      "cell_type": "markdown",
      "source": [
        "### Downloading audio clip from the YouTube video"
      ],
      "metadata": {
        "id": "kPp1Gx_GGVmv"
      }
    },
    {
      "cell_type": "code",
      "execution_count": 82,
      "metadata": {
        "id": "jbeQ3nGRABqH"
      },
      "outputs": [],
      "source": [
        "from pytube import YouTube\n",
        "import os\n",
        "import subprocess"
      ]
    },
    {
      "cell_type": "code",
      "source": [
        "def download_youtube_audio(url, destination):\n",
        "    # Create a YouTube object\n",
        "    yt = YouTube(url)\n",
        "\n",
        "    # Select the audio stream\n",
        "    audio_stream = yt.streams.filter(only_audio=True).first()\n",
        "\n",
        "    # Download the audio stream\n",
        "    out_file = audio_stream.download(output_path=destination)\n",
        "\n",
        "    # Set up new filename\n",
        "    base, ext = os.path.splitext(out_file)\n",
        "    new_file = base + '.mp3'\n",
        "\n",
        "    # Convert file to mp3\n",
        "    subprocess.run(['ffmpeg', '-i', out_file, new_file])\n",
        "\n",
        "    # Remove the original file\n",
        "    os.remove(out_file)\n",
        "\n",
        "    print(f\"Downloaded and converted to MP3: {new_file}\")\n",
        "    return new_file"
      ],
      "metadata": {
        "id": "TIpMJJshAR7m"
      },
      "execution_count": 36,
      "outputs": []
    },
    {
      "cell_type": "markdown",
      "source": [
        "### Input Youtube link"
      ],
      "metadata": {
        "id": "F-uidWN5RP0R"
      }
    },
    {
      "cell_type": "code",
      "source": [
        "url = input(\"Enter the YouTube URL: \")\n",
        "\n",
        "# url = 'https://www.youtube.com/watch?v=reUZRyXxUs4' # as test"
      ],
      "metadata": {
        "colab": {
          "base_uri": "https://localhost:8080/"
        },
        "id": "9nCkN_X_As1l",
        "outputId": "0ce6b22c-e70b-4671-bea5-651e30ed70ff"
      },
      "execution_count": 37,
      "outputs": [
        {
          "name": "stdout",
          "output_type": "stream",
          "text": [
            "Enter the YouTube URL: https://www.youtube.com/watch?v=reUZRyXxUs4\n"
          ]
        }
      ]
    },
    {
      "cell_type": "code",
      "source": [
        "# Set the destination path for the download\n",
        "destination = \"audiofiles/\"\n",
        "\n",
        "file_path = download_youtube_audio(url, destination)"
      ],
      "metadata": {
        "colab": {
          "base_uri": "https://localhost:8080/"
        },
        "id": "iNdsqUCXA8nf",
        "outputId": "e5909438-9658-4f47-b3c2-cdeffbb3a13f"
      },
      "execution_count": 41,
      "outputs": [
        {
          "output_type": "stream",
          "name": "stdout",
          "text": [
            "Downloaded and converted to MP3: /content/audiofiles/How AI Could Empower Any Business  Andrew Ng  TED.mp3\n"
          ]
        }
      ]
    },
    {
      "cell_type": "markdown",
      "source": [
        "### Converting the audio into text using **Whisper 1**"
      ],
      "metadata": {
        "id": "90eokVCvGgGX"
      }
    },
    {
      "cell_type": "code",
      "source": [
        "def write_text_to_file(text, filename=\"transcribed_text.txt\"):\n",
        "  # Write the text to the file\n",
        "  with open(filename, \"w\") as file:\n",
        "      file.write(text)"
      ],
      "metadata": {
        "id": "6fzySYbSMLgT"
      },
      "execution_count": 77,
      "outputs": []
    },
    {
      "cell_type": "code",
      "source": [
        "from openai import OpenAI\n",
        "\n",
        "client = OpenAI(api_key= os.getenv(\"OPENAI_API_KEY\"))\n",
        "\n",
        "# Assuming you have an audio file ready for transcription\n",
        "response = client.audio.transcriptions.create(\n",
        "    file=open(file_path, 'rb'),\n",
        "    model=\"whisper-1\"\n",
        ")"
      ],
      "metadata": {
        "id": "FFEhcEYIHHDd"
      },
      "execution_count": null,
      "outputs": []
    },
    {
      "cell_type": "code",
      "source": [
        "# The response object will contain the transcription\n",
        "write_text_to_file(str(response))"
      ],
      "metadata": {
        "id": "R3ttiOCdI94t"
      },
      "execution_count": null,
      "outputs": []
    },
    {
      "cell_type": "markdown",
      "source": [
        "### Converting transcript into summarized text"
      ],
      "metadata": {
        "id": "_vQ7VqW1RgR7"
      }
    },
    {
      "cell_type": "code",
      "source": [
        "import openai\n",
        "\n",
        "# Assuming 'response_string' contains the string to be used as a prompt\n",
        "preprompt = 'You are a model that gets a transcribtion for a youtube video and turns it into a well structured summarization of the overall video, highlighting important details and providing more context when necessary. Try to be very detailed when it gets to non-trivial parts and the summary should have at least 20-30 % of the actual text length'\n",
        "prompt = preprompt + str(response)\n",
        "\n",
        "\n",
        "response = client.chat.completions.create(\n",
        "  model=\"gpt-3.5-turbo\",\n",
        "  messages=[\n",
        "    {\"role\": \"system\", \"content\": preprompt},\n",
        "    {\"role\": \"user\", \"content\": prompt},\n",
        "  ]\n",
        ")\n",
        "# The 'response' will contain the completion from the model\n",
        "print(response.choices[0].message.content)\n",
        "write_text_to_file(response.choices[0].message.content, filename='summary.txt')"
      ],
      "metadata": {
        "colab": {
          "base_uri": "https://localhost:8080/"
        },
        "id": "pYXkw7qdMqZI",
        "outputId": "9cdecccb-46c3-4fc8-d79a-0053b4f39e8e"
      },
      "execution_count": 81,
      "outputs": [
        {
          "output_type": "stream",
          "name": "stdout",
          "text": [
            "The video explores the historical context of literacy and its significance in understanding the current landscape of accessibility in Artificial Intelligence (AI). It draws parallels between the exclusivity of literacy in the past, limited to a select few, and the current concentration of AI expertise in the hands of skilled engineers at major tech companies. The high costs and specialized skills required for AI projects have created barriers to entry for smaller businesses and individuals, hindering their ability to leverage AI technology effectively.\n",
            "\n",
            "A key point made in the video is the necessity of democratizing AI access, especially for small businesses like local pizza stores or small T-shirt companies. These businesses hold valuable data that, when combined with AI capabilities, could optimize their operations and boost revenue. A contrast is drawn between AI projects that primarily benefit large tech corporations and those that have the potential to empower smaller businesses operating outside the traditional internet and tech sectors.\n",
            "\n",
            "Furthermore, the video introduces new AI development platforms that prioritize data input over complex coding, aiming to make AI development more inclusive and accessible to a broader audience. These platforms are showcased in various industries such as fabric inspection in T-shirt manufacturing or quality control in food production, underscoring the potential for democratizing AI accessibility across different sectors.\n",
            "\n",
            "The speaker advocates for empowering individuals across diverse fields to develop their AI systems, rather than solely depending on experts from prominent tech companies. By promoting the democratization of AI access, the video suggests that wealth creation and innovation can be more equitably distributed across society, fostering a more inclusive and innovative future in the age of AI.\n"
          ]
        }
      ]
    }
  ]
}